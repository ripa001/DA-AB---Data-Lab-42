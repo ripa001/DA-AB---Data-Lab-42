{
 "cells": [
  {
   "cell_type": "code",
   "execution_count": 1,
   "id": "61526a14",
   "metadata": {},
   "outputs": [
    {
     "name": "stdout",
     "output_type": "stream",
     "text": [
      "[ 2  4  6  8 10]\n",
      "[[1, 2, 3, 4, 5], [1, 2, 3, 4, 5], [1, 2, 3, 4, 5], [1, 2, 3, 4, 5], [1, 2, 3, 4, 5]]\n",
      "[[1 2 3 4 5]\n",
      " [1 2 3 4 5]\n",
      " [1 2 3 4 5]\n",
      " [1 2 3 4 5]\n",
      " [1 2 3 4 5]]\n"
     ]
    },
    {
     "data": {
      "text/plain": [
       "array([[3, 4, 5],\n",
       "       [3, 4, 5],\n",
       "       [3, 4, 5]])"
      ]
     },
     "execution_count": 1,
     "metadata": {},
     "output_type": "execute_result"
    }
   ],
   "source": [
    "import numpy as np\n",
    "list1 = [1,2,3,4,5]\n",
    "array = np.array(list1)\n",
    "print(array+array)\n",
    "matr = [list1,list1, list1, list1, list1]\n",
    "print(matr)\n",
    "matr_np = np.array(matr)\n",
    "print(matr_np)\n",
    "matr_np[1:4,2:5]"
   ]
  },
  {
   "cell_type": "markdown",
   "id": "b680f644",
   "metadata": {},
   "source": [
    "## Creazione dati"
   ]
  },
  {
   "cell_type": "code",
   "execution_count": null,
   "id": "2e14ec28",
   "metadata": {},
   "outputs": [
    {
     "data": {
      "text/plain": [
       "array([[ 6., 20.],\n",
       "       [ 8., 25.],\n",
       "       [15., 32.],\n",
       "       [18., 60.],\n",
       "       [25., 70.],\n",
       "       [33., 70.],\n",
       "       [50., 82.],\n",
       "       [25., 75.]])"
      ]
     },
     "execution_count": 2,
     "metadata": {},
     "output_type": "execute_result"
    }
   ],
   "source": [
    "X = [[6,20],[8.,25],[15,32], [18,60],[25,70],[33,70],[50,82],[25,75]]\n",
    "X = np.array(X)\n",
    "X"
   ]
  },
  {
   "cell_type": "code",
   "execution_count": null,
   "id": "a2fde461",
   "metadata": {},
   "outputs": [
    {
     "data": {
      "image/png": "[encoded data removed]",
      "text/plain": [
       "<Figure size 432x288 with 1 Axes>"
      ]
     },
     "metadata": {
      "needs_background": "light"
     },
     "output_type": "display_data"
    }
   ],
   "source": [
    "import matplotlib.pyplot as plt\n",
    "eta = X[:,0] #tutte le righe colonna 0\n",
    "peso = X[:,1] #tutte le righe colonna 1\n",
    "plt.plot(eta, peso,'.',c = 'red')\n",
    "plt.show()"
   ]
  },
  {
   "cell_type": "markdown",
   "id": "d42bbd04",
   "metadata": {},
   "source": [
    " ###  Creazione modello\n"
   ]
  },
  {
   "cell_type": "code",
   "execution_count": null,
   "id": "16afaa9b",
   "metadata": {},
   "outputs": [
    {
     "name": "stdout",
     "output_type": "stream",
     "text": [
      "[ 12.  16.  30.  36.  50.  66. 100.  50.]\n"
     ]
    },
    {
     "data": {
      "text/plain": [
       "[<matplotlib.lines.Line2D at 0x210c6f1b9d0>]"
      ]
     },
     "execution_count": 4,
     "metadata": {},
     "output_type": "execute_result"
    },
    {
     "data": {
      "image/png": "[encoded data removed]",
      "text/plain": [
       "<Figure size 432x288 with 1 Axes>"
      ]
     },
     "metadata": {
      "needs_background": "light"
     },
     "output_type": "display_data"
    }
   ],
   "source": [
    "def modello(x, theta):\n",
    "    return theta * x\n",
    "\n",
    "pred = modello(eta, 2)\n",
    "print(pred)\n",
    "plt.plot(eta, peso,'*',c='red',label='real')\n",
    "plt.plot(eta, pred, '.',label = 'pred')"
   ]
  },
  {
   "cell_type": "code",
   "execution_count": null,
   "id": "2ee37696",
   "metadata": {},
   "outputs": [
    {
     "data": {
      "text/plain": [
       "74.0"
      ]
     },
     "execution_count": 5,
     "metadata": {},
     "output_type": "execute_result"
    }
   ],
   "source": [
    "errors = (peso-pred).sum()\n",
    "errors"
   ]
  },
  {
   "cell_type": "code",
   "execution_count": null,
   "id": "6aaf9e89",
   "metadata": {},
   "outputs": [
    {
     "name": "stdout",
     "output_type": "stream",
     "text": [
      "18585.0\t\t-3\n",
      "12176.25\t\t-2\n",
      "7139.5\t\t-1\n",
      "3474.75\t\t0\n",
      "1182.0\t\t1\n",
      "261.25\t\t2\n",
      "712.5\t\t3\n",
      "2535.75\t\t4\n",
      "5731.0\t\t5\n",
      "10298.25\t\t6\n",
      "16237.5\t\t7\n",
      "23548.75\t\t8\n",
      "32232.0\t\t9\n"
     ]
    },
    {
     "data": {
      "text/plain": [
       "[<matplotlib.lines.Line2D at 0x210c30ac2e0>]"
      ]
     },
     "execution_count": 41,
     "metadata": {},
     "output_type": "execute_result"
    },
    {
     "data": {
      "image/png": "[encoded data removed]",
      "text/plain": [
       "<Figure size 432x288 with 1 Axes>"
      ]
     },
     "metadata": {
      "needs_background": "light"
     },
     "output_type": "display_data"
    }
   ],
   "source": [
    "l = []\n",
    "def loss(target,pred):\n",
    "    return ((target-pred)**2).mean() #al quadrato perche più preciso\n",
    "\n",
    "thet_val = list(range(-3,10))\n",
    "for thet in thet_val:\n",
    "    pred = modello(eta, thet)\n",
    "    errors = loss(peso,pred)\n",
    "    l.append(errors)\n",
    "    print(errors, thet, sep='\\t\\t')\n",
    "\n",
    "plt.plot(thet_val, l) #LOSS FUNCTIONS per ogni valore del parametro ho il valore di errore trovo il minore"
   ]
  },
  {
   "cell_type": "markdown",
   "id": "196cc3a2",
   "metadata": {},
   "source": [
    "## Discesa del gradiente | Gradient Descent"
   ]
  },
  {
   "cell_type": "code",
   "execution_count": null,
   "id": "a48792b5",
   "metadata": {},
   "outputs": [
    {
     "data": {
      "image/png": "[encoded data removed]",
      "text/plain": [
       "<Figure size 432x288 with 1 Axes>"
      ]
     },
     "metadata": {
      "needs_background": "light"
     },
     "output_type": "display_data"
    },
    {
     "name": "stdout",
     "output_type": "stream",
     "text": [
      "STEP 0 LOSS 6386682.163079452 THETA 98.6577875\n",
      "STEP 50 LOSS 1604526.2805957166 THETA 50.53025728800894\n",
      "STEP 100 LOSS 403240.3848009777 THETA 26.408724569752742\n",
      "STEP 150 LOSS 101475.27322835712 THETA 14.319005065863978\n",
      "STEP 200 LOSS 25671.351046958327 THETA 8.259633988996727\n",
      "STEP 250 LOSS 6629.273624099239 THETA 5.222675370116835\n",
      "STEP 300 LOSS 1845.8705739185812 THETA 3.7005507905544777\n",
      "STEP 350 LOSS 644.2713874238265 THETA 2.9376614902839333\n",
      "STEP 400 LOSS 342.42757668111085 THETA 2.5553011419380582\n",
      "STEP 450 LOSS 266.6038851309646 THETA 2.3636620195446345\n",
      "STEP 500 LOSS 247.55684160820672 THETA 2.267612433360819\n",
      "STEP 550 LOSS 242.77219106507263 THETA 2.219472351675709\n",
      "STEP 600 LOSS 241.57027850617288 THETA 2.1953445281553243\n",
      "STEP 650 LOSS 241.26835597573557 THETA 2.183251655699503\n",
      "STEP 700 LOSS 241.1925125096609 THETA 2.1771907043621717\n",
      "STEP 750 LOSS 241.17346049874308 THETA 2.1741529537162685\n",
      "STEP 800 LOSS 241.16867460038168 THETA 2.1726304321725216\n",
      "STEP 850 LOSS 241.1674723743686 THETA 2.1718673439136817\n",
      "STEP 900 LOSS 241.16717037309795 THETA 2.171484883847241\n",
      "STEP 950 LOSS 241.16709450985218 THETA 2.1712931947461085\n"
     ]
    },
    {
     "data": {
      "image/png": "[encoded data removed]",
      "text/plain": [
       "<Figure size 432x288 with 1 Axes>"
      ]
     },
     "metadata": {
      "needs_background": "light"
     },
     "output_type": "display_data"
    }
   ],
   "source": [
    "def loss_derivative(x, theta):\n",
    "    der =  (2*(theta*x-peso)*x).mean()\n",
    "    return der\n",
    "theta =100\n",
    "\n",
    "pred = modello(eta, theta)\n",
    "plt.plot(eta,peso,'.',c='red')\n",
    "plt.plot(eta,pred,'*',c='green')\n",
    "plt.show()\n",
    "passo = 0.00001\n",
    "loss_list = []\n",
    "for step in range(1000):\n",
    "    theta = theta - passo * loss_derivative(eta, theta) #Update rule\n",
    "    pred = modello(eta,theta) # predizione con il parametro aggiornato appena calcolato\n",
    "    errore = loss(peso,pred) #verifica delle performance\n",
    "    loss_list.append(errore)\n",
    "    if step % 50 == 0:\n",
    "        print('STEP',step,'LOSS', errore,'THETA',theta)\n",
    "        \n",
    "pred = modello(eta,theta) #il modello si è auto regolato trovando il parametro migliore\n",
    "plt.plot(eta,peso,'.',c='red')\n",
    "plt.plot(eta,pred,'*',c='green')\n",
    "plt.show()"
   ]
  },
  {
   "cell_type": "code",
   "execution_count": 59,
   "id": "fda27a42",
   "metadata": {},
   "outputs": [
    {
     "data": {
      "text/plain": [
       "[<matplotlib.lines.Line2D at 0x210c8726970>]"
      ]
     },
     "execution_count": 59,
     "metadata": {},
     "output_type": "execute_result"
    },
    {
     "data": {
      "image/png": "[encoded data removed]",
      "text/plain": [
       "<Figure size 432x288 with 1 Axes>"
      ]
     },
     "metadata": {
      "needs_background": "light"
     },
     "output_type": "display_data"
    }
   ],
   "source": [
    "plt.plot(range(len(loss_list)),loss_list,label='loss')"
   ]
  },
  {
   "cell_type": "markdown",
   "id": "a68fcb86",
   "metadata": {},
   "source": [
    "## Dataset creation\n",
    "A partire da eta, numero di scarpe, altezza stimiamo il PESO\n"
   ]
  },
  {
   "cell_type": "code",
   "execution_count": 65,
   "id": "5505b47c",
   "metadata": {},
   "outputs": [
    {
     "name": "stdout",
     "output_type": "stream",
     "text": [
      "[[ 20  41 170]\n",
      " [ 30  40 180]\n",
      " [ 25  44 190]\n",
      " [ 50  42 160]]\n",
      "[[ 20  41 170  82]\n",
      " [ 30  40 180  90]\n",
      " [ 25  44 190  90]\n",
      " [ 50  42 160  80]]\n",
      "[82 90 90 80]\n"
     ]
    }
   ],
   "source": [
    "D = [[20,41,170,82], [30,40,180,90],[25,44,190,90],[50,42,160,80]]\n",
    "D = np.array(D)\n",
    "X = D[:,0:3]\n",
    "target = D[:,3]\n",
    "\n",
    "print(X)\n",
    "print(D)\n",
    "print(target)"
   ]
  },
  {
   "cell_type": "markdown",
   "id": "57d56dbd",
   "metadata": {},
   "source": [
    "## Model definition\n"
   ]
  },
  {
   "cell_type": "code",
   "execution_count": 93,
   "id": "18d4d5cf",
   "metadata": {},
   "outputs": [],
   "source": [
    "def layer(x, W):\n",
    "#     print(x.shape) 4,3\n",
    "#     print(W.shape)  3,1\n",
    "    return np.matmul(x,W) #matrix multiplication"
   ]
  },
  {
   "cell_type": "code",
   "execution_count": 105,
   "id": "d2536330",
   "metadata": {},
   "outputs": [
    {
     "data": {
      "text/plain": [
       "array([0.96834229, 0.10123618, 0.68472882])"
      ]
     },
     "execution_count": 105,
     "metadata": {},
     "output_type": "execute_result"
    }
   ],
   "source": []
  },
  {
   "cell_type": "markdown",
   "id": "2be54a06",
   "metadata": {},
   "source": [
    "## Test del modello"
   ]
  },
  {
   "cell_type": "code",
   "execution_count": 106,
   "id": "63f676c4",
   "metadata": {},
   "outputs": [
    {
     "name": "stdout",
     "output_type": "stream",
     "text": [
      "X: \n",
      " [[ 20  41 170]\n",
      " [ 30  40 180]\n",
      " [ 25  44 190]\n",
      " [ 50  42 160]]\n",
      "Predictions: \n",
      " [139.92142901 156.35090393 158.76142544 162.2256456 ]\n",
      "Target: \n",
      " [82 90 90 80]\n"
     ]
    }
   ],
   "source": [
    "preds = layer(X, W)\n",
    "print('X: \\n', X)\n",
    "print('Predictions: \\n', preds)\n",
    "print('Target: \\n', target)"
   ]
  },
  {
   "cell_type": "markdown",
   "id": "a13bda4f",
   "metadata": {},
   "source": [
    "## Calcolo della loss / Definizione\n"
   ]
  },
  {
   "cell_type": "code",
   "execution_count": 121,
   "id": "1249a449",
   "metadata": {},
   "outputs": [],
   "source": [
    "def loss(pred, target):\n",
    "#     return ((pred-target)**2)\n",
    "    return ((pred-target)**2).mean()\n",
    "\n",
    "def loss_derivative(x, w):\n",
    "    der =  (2*(theta*x-peso)*x).mean()\n",
    "    return der\n"
   ]
  },
  {
   "cell_type": "code",
   "execution_count": 122,
   "id": "624e4e03",
   "metadata": {},
   "outputs": [],
   "source": [
    "error = loss(preds,target)"
   ]
  },
  {
   "cell_type": "code",
   "execution_count": 123,
   "id": "224c32ee",
   "metadata": {},
   "outputs": [
    {
     "name": "stdout",
     "output_type": "stream",
     "text": [
      "4811.631203814316\n"
     ]
    }
   ],
   "source": [
    "print(error)"
   ]
  },
  {
   "cell_type": "markdown",
   "id": "966b7e8e",
   "metadata": {},
   "source": [
    "## Inizializziamo i pesi del layer\n",
    "Numero di neuroni in input = numero di features\n",
    "\n"
   ]
  },
  {
   "cell_type": "code",
   "execution_count": 129,
   "id": "0f705547",
   "metadata": {},
   "outputs": [
    {
     "name": "stderr",
     "output_type": "stream",
     "text": [
      "C:\\Users\\Mattia\\AppData\\Local\\Temp/ipykernel_10352/969882289.py:3: RuntimeWarning: overflow encountered in double_scalars\n",
      "  return ((pred-target)**2).mean()\n",
      "C:\\Users\\Mattia\\AppData\\Local\\Temp/ipykernel_10352/2917412981.py:4: RuntimeWarning: overflow encountered in matmul\n",
      "  return np.matmul(x,W) #matrix multiplication\n",
      "C:\\Users\\Mattia\\AppData\\Local\\Temp/ipykernel_10352/3040433124.py:15: RuntimeWarning: invalid value encountered in subtract\n",
      "  W = W - LR*2*(p-target[i])* e\n",
      "C:\\Users\\Mattia\\Desktop\\Davide\\Machine learning\\my_env\\lib\\site-packages\\matplotlib\\ticker.py:2222: RuntimeWarning: overflow encountered in multiply\n",
      "  steps = self._extended_steps * scale\n"
     ]
    },
    {
     "data": {
      "image/png": "[encoded data removed]",
      "text/plain": [
       "<Figure size 432x288 with 1 Axes>"
      ]
     },
     "metadata": {
      "needs_background": "light"
     },
     "output_type": "display_data"
    }
   ],
   "source": [
    "# theta = w - \\alpha DL/Dw\n",
    "# dL/dw = 2*(layer(X,W)-target)*X\n",
    "n_feats = 3\n",
    "#genero vettore di pesi random\n",
    "W = np.random.rand(n_feats)\n",
    "error_list = []\n",
    "LR = 0.001\n",
    "for epoch in range(100):\n",
    "    tot_loss = 0. \n",
    "    for i, e in enumerate(X):\n",
    "        p = layer(e, W)\n",
    "        loss_dp = loss(p, target[i])\n",
    "        tot_loss += error\n",
    "        error_list.append(loss_dp)\n",
    "        W = W - LR*2*(p-target[i])* e\n",
    "    error_list.append(tot_loss)\n",
    "plt.plot(list(range(len(error_list))),error_list)\n",
    "plt.show()"
   ]
  },
  {
   "cell_type": "code",
   "execution_count": null,
   "id": "5eb474d0",
   "metadata": {},
   "outputs": [],
   "source": []
  },
  {
   "cell_type": "code",
   "execution_count": null,
   "id": "c2a54ec5",
   "metadata": {},
   "outputs": [],
   "source": []
  },
  {
   "cell_type": "code",
   "execution_count": null,
   "id": "41619f9c",
   "metadata": {},
   "outputs": [],
   "source": []
  }
 ],
 "metadata": {
  "kernelspec": {
   "display_name": "Python 3 (ipykernel)",
   "language": "python",
   "name": "python3"
  },
  "language_info": {
   "codemirror_mode": {
    "name": "ipython",
    "version": 3
   },
   "file_extension": ".py",
   "mimetype": "text/x-python",
   "name": "python",
   "nbconvert_exporter": "python",
   "pygments_lexer": "ipython3",
   "version": "3.9.1"
  }
 },
 "nbformat": 4,
 "nbformat_minor": 5
}
